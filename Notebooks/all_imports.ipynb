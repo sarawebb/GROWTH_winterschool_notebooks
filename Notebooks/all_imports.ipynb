{
 "cells": [
  {
   "cell_type": "code",
   "execution_count": null,
   "metadata": {},
   "outputs": [],
   "source": [
    "##Python basics\n",
    "from matplotlib import pyplot as plt\n",
    "import numpy as np\n",
    "%matplotlib inline\n",
    "import astropy.table\n",
    "import math\n",
    "from math import pi\n",
    "import astropy.coordinates\n",
    "import astropy.units as u\n",
    "import astropy.io.fits\n",
    "import astropy.stats\n",
    "import astropy.table\n",
    "import astropy.wcs\n",
    "import astropy.cosmology\n",
    "import scipy.optimize\n",
    "import scipy.odr\n",
    "from astroquery.irsa import Irsa\n"
   ]
  },
  {
   "cell_type": "code",
   "execution_count": null,
   "metadata": {},
   "outputs": [],
   "source": [
    "##LIGO galaxy cross match\n",
    "import numpy as np\n",
    "from astropy.table import Table, vstack, hstack, Column\n",
    "import os, sys, math, pdb, glob, fnmatch\n",
    "import astropy.units as u\n",
    "from astropy.coordinates import SkyCoord\n",
    "import matplotlib.pyplot as plt\n",
    "import ligo.skymap.plot\n",
    "from scipy.stats import norm\n",
    "import scipy.stats\n",
    "\n",
    "import gcn\n",
    "import gcn.handlers\n",
    "import gcn.notice_types\n",
    "import requests\n",
    "import healpy as hp"
   ]
  },
  {
   "cell_type": "code",
   "execution_count": null,
   "metadata": {},
   "outputs": [],
   "source": [
    "##asteroids_ML\n",
    "import requests, numpy as np, glob, matplotlib.pyplot as plt, os, tarfile\n",
    "from astroquery.jplhorizons import Horizons\n",
    "from astropy.time import Time\n",
    "from IPython.display import Image, display\n",
    "import pdb\n",
    "\n",
    "import warnings\n"
   ]
  },
  {
   "cell_type": "code",
   "execution_count": null,
   "metadata": {},
   "outputs": [],
   "source": [
    "##image_reduction\n",
    "from astropy.io import fits\n",
    "import matplotlib.pyplot as plt\n",
    "import glob\n",
    "import os\n",
    "from astropy.stats import sigma_clipped_stats\n",
    "import numpy as np\n",
    "import astroscrappy\n",
    "import subprocess\n",
    "import pyregion\n"
   ]
  },
  {
   "cell_type": "code",
   "execution_count": null,
   "metadata": {},
   "outputs": [],
   "source": [
    "##image subtraction\n",
    "import numpy as np\n",
    "from astropy.io import fits #FITS files handling\n",
    "import os  #Call commands from outside Python\n",
    "from astropy.io import ascii  #Read/write ascii files\n",
    "#Useful to smooth the images with a Gaussian kernel before the subtraction\n",
    "from scipy.signal import convolve as scipy_convolve\n",
    "from astropy.convolution import convolve \n",
    "from astropy.convolution import Gaussian2DKernel\n",
    "from astropy.stats import sigma_clipped_stats\n",
    "\n",
    "#Plot\n",
    "import matplotlib.pyplot as plt\n",
    "from astropy.stats import SigmaClip\n",
    "from photutils import Background2D, MedianBackground\n",
    "from image_registration import chi2_shift\n",
    "from image_registration.fft_tools import shift\n",
    "import scipy\n",
    "from scipy import ndimage, misc\n",
    "import matplotlib.pyplot as plt\n",
    "import numpy.fft\n",
    "from astropy.coordinates import SkyCoord\n",
    "from astropy import units as u\n",
    "from image_registration import chi2_shift\n",
    "from image_registration.fft_tools import shift\n",
    "import scipy\n",
    "from scipy import ndimage, misc\n",
    "import matplotlib.pyplot as plt\n",
    "import numpy.fft"
   ]
  },
  {
   "cell_type": "code",
   "execution_count": null,
   "metadata": {},
   "outputs": [],
   "source": [
    "##lightcurve module\n",
    "import numpy as np\n",
    "from astropy.stats import LombScargle\n",
    "%matplotlib inline\n",
    "import matplotlib.pyplot as plt\n"
   ]
  },
  {
   "cell_type": "code",
   "execution_count": null,
   "metadata": {},
   "outputs": [],
   "source": [
    "##observation plan\n",
    "import numpy as np\n",
    "from astropy import units as u\n",
    "from astropy.time import Time\n",
    "from astropy.coordinates import SkyCoord\n",
    "from astropy.coordinates import EarthLocation\n",
    "import pytz\n",
    "%matplotlib inline\n",
    "from astroplan import Observer, FixedTarget\n",
    "from astroplan import download_IERS_A \n",
    "from astropy.coordinates import get_sun, get_moon, get_body\n",
    "from astroplan import moon_illumination\n",
    "import matplotlib.pyplot as plt\n",
    "from astroplan.plots import plot_sky, plot_airmass\n",
    "from astroplan.plots import plot_finder_image\n",
    "from astroquery.skyview import SkyView\n",
    "from astroplan import (AltitudeConstraint, AirmassConstraint,\n",
    "                       AtNightConstraint, MoonSeparationConstraint)\n",
    "from astropy.table import Table\n",
    "from astroplan import observability_table\n"
   ]
  },
  {
   "cell_type": "code",
   "execution_count": null,
   "metadata": {},
   "outputs": [],
   "source": [
    "##photometry\n",
    "import numpy as np\n",
    "import numpy.ma as ma\n",
    "import os\n",
    "import astropy.units as u\n",
    "from astropy.io import ascii\n",
    "from astropy.coordinates import SkyCoord\n",
    "from astropy.wcs import WCS\n",
    "from astropy.stats import sigma_clipped_stats, sigma_clip\n",
    "from astropy.io import fits\n",
    "import matplotlib.pyplot as plt\n",
    "from astroquery.vizier import Vizier\n",
    "from astropy.table import Table\n",
    "from pyraf import iraf\n",
    "from iraf import noao, digiphot, apphot\n",
    "import subprocess\n"
   ]
  },
  {
   "cell_type": "code",
   "execution_count": null,
   "metadata": {},
   "outputs": [],
   "source": [
    "##radio_GHz\n",
    "import numpy as np\n",
    "from astropy.io import ascii\n",
    "import matplotlib.pyplot as plt\n",
    "import matplotlib.colors as colors\n",
    "import matplotlib.cm as cmx\n",
    "from scipy.optimize import least_squares, curve_fit\n",
    "from scipy.stats import f\n",
    "import emcee\n",
    "import corner\n",
    "import os\n",
    "from timeit import default_timer as timer\n"
   ]
  },
  {
   "cell_type": "code",
   "execution_count": null,
   "metadata": {},
   "outputs": [],
   "source": [
    "##radio low chandra\n",
    "import os\n",
    "import webbrowser\n",
    "import numpy as np\n",
    "import matplotlib.pyplot as plt\n",
    "from astropy.io import fits\n",
    "from astropy.wcs import WCS\n",
    "import numpy as np\n",
    "import matplotlib.pyplot as plt\n",
    "import numpy as np\n",
    "from astropy.io import fits\n",
    "import matplotlib.pyplot as plt\n"
   ]
  },
  {
   "cell_type": "code",
   "execution_count": null,
   "metadata": {},
   "outputs": [],
   "source": [
    "##spectra\n",
    "import numpy as np\n",
    "from astropy.io import fits\n",
    "from astropy.stats import sigma_clip\n",
    "from scipy.interpolate import interp1d\n",
    "from scipy.interpolate import LSQBivariateSpline, LSQUnivariateSpline\n",
    "from scipy.optimize import fmin\n",
    "from scipy.optimize import least_squares\n",
    "import pickle\n",
    "\n",
    "%matplotlib inline\n",
    "import matplotlib.pylab as plt\n",
    "import pyds9\n",
    "from scipy.interpolate import LSQUnivariateSpline as real_LSQUnivariateSpline\n"
   ]
  },
  {
   "cell_type": "code",
   "execution_count": null,
   "metadata": {},
   "outputs": [],
   "source": [
    "##xray\n",
    "import numpy as np\n",
    "import matplotlib.pyplot as plt\n",
    "from astropy.io import fits\n",
    "from astropy.io import fits\n",
    "import numpy as np\n",
    "import matplotlib.pyplot as plt\n",
    "import math\n",
    "import scipy as sc\n"
   ]
  }
 ],
 "metadata": {
  "kernelspec": {
   "display_name": "Python 3",
   "language": "python",
   "name": "python3"
  },
  "language_info": {
   "codemirror_mode": {
    "name": "ipython",
    "version": 3
   },
   "file_extension": ".py",
   "mimetype": "text/x-python",
   "name": "python",
   "nbconvert_exporter": "python",
   "pygments_lexer": "ipython3",
   "version": "3.7.0"
  }
 },
 "nbformat": 4,
 "nbformat_minor": 2
}
