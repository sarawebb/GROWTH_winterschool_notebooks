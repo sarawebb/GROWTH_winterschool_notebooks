{
 "cells": [
  {
   "cell_type": "code",
   "execution_count": null,
   "metadata": {},
   "outputs": [],
   "source": [
    "# python modules that we will use\n",
    "import numpy as np\n",
    "from astropy.io import fits\n",
    "from astropy.stats import sigma_clip\n",
    "from scipy.interpolate import interp1d\n",
    "from scipy.interpolate import LSQBivariateSpline, LSQUnivariateSpline\n",
    "from scipy.optimize import fmin\n",
    "from scipy.optimize import least_squares\n",
    "import pickle\n",
    "\n",
    "%matplotlib inline\n",
    "import matplotlib.pylab as plt"
   ]
  },
  {
   "cell_type": "code",
   "execution_count": null,
   "metadata": {},
   "outputs": [],
   "source": [
    "# optional launch DS9 for displaying image data\n",
    "import pyds9\n",
    "ds9 = pyds9.DS9()"
   ]
  },
  {
   "cell_type": "code",
   "execution_count": null,
   "metadata": {},
   "outputs": [],
   "source": [
    "# change plotting defaults\n",
    "plt.rc('axes', labelsize=14)\n",
    "plt.rc('axes', labelweight='bold')\n",
    "plt.rc('axes', titlesize=16)\n",
    "plt.rc('axes', titleweight='bold')\n",
    "plt.rc('font', family='sans-serif')\n",
    "plt.rcParams['figure.figsize'] = (15, 7)"
   ]
  },
  {
   "cell_type": "markdown",
   "metadata": {},
   "source": [
    "# Spectroscopy Module"
   ]
  },
  {
   "cell_type": "markdown",
   "metadata": {},
   "source": [
    "### Prepared by Robert Quimby (SDSU)"
   ]
  },
  {
   "cell_type": "markdown",
   "metadata": {},
   "source": [
    "**In this module you will extract a 1-D spectrum from a 2-D image of a long-slit spectrum, determine wavelength solution, and then measure the redshift of the target**\n",
    "\n",
    "To accomplish this you will need to:\n",
    "  * determine the mapping between pixel coordinates and lines of constant wavelength\n",
    "  * create and subtract a 2D model of the sky background from the science image\n",
    "  * determine the mapping between pixel coordinates and lines of constant spatial position\n",
    "  * extract (sum) the background subtracted target counts in each wavelength bin\n",
    "  * determine the wavelengths for each wavelength bin\n",
    "  * identify line features in the extracted spectrum and use the known rest wavelength to compute a redshift\n",
    "  \n",
    "Additional, to fully process the image you can:\n",
    "  * normalize a flat field image wavelength bin by wavelength bin and correct the images for pixel-to-pixel efficiencies \n",
    "  * extract a spectrum of a \"standard star\" with a known flux densities\n",
    "  * use the standard star spectrum to calibrate the instrumental response function\n",
    "  * use the response function to convert the target counts into flux densities\n",
    "  * identify telluric absorption features in the standard star spectrum and correct the target spectrum for these absorption bands"
   ]
  },
  {
   "cell_type": "markdown",
   "metadata": {},
   "source": [
    "## Scipy bug check"
   ]
  },
  {
   "cell_type": "code",
   "execution_count": null,
   "metadata": {},
   "outputs": [],
   "source": [
    "# test if spline fitting works\n",
    "x = np.array([0, 1, 2, 2, 3, 4])\n",
    "y = np.array([0, 1, 2, 2, 3, 4])\n",
    "try:\n",
    "    spl = LSQUnivariateSpline(x, y, []) # new scipy crashes here because of duplicate x=2 values\n",
    "    SPLINE_WORKS = True\n",
    "    print('congratulations! Your version of scipy has 1D spline fitting')\n",
    "except ValueError:\n",
    "    SPLINE_WORKS = False\n",
    "    print('Nuts! Your version of scipy does not do proper 1D spline fitting.')"
   ]
  },
  {
   "cell_type": "code",
   "execution_count": null,
   "metadata": {},
   "outputs": [],
   "source": [
    "# *** HACK! -- HACK! -- HACK! ***\n",
    "if SPLINE_WORKS is False:\n",
    "    from scipy.interpolate import LSQUnivariateSpline as real_LSQUnivariateSpline\n",
    "\n",
    "    # re-define LSQUnivariateSpline; this runs VERY slow!\n",
    "    def LSQUnivariateSpline(x, y, t, weights=None):\n",
    "        # x must be **strictly** increasing\n",
    "        # so remove (average over) duplicates\n",
    "        uniqx = np.unique(x)\n",
    "        newy = np.zeros(uniqx.shape)\n",
    "        if weights is not None:\n",
    "            newweights = np.zeros(uniqx.shape)\n",
    "        else:\n",
    "            newweights = None\n",
    "            \n",
    "        for i in range(uniqx.size):\n",
    "            w = (x == uniqx[i])\n",
    "            newy[i] = np.mean(y[w])\n",
    "            if weights is not None:\n",
    "                newweights[i] = np.mean(weights[w]) # probably not right...\n",
    "                \n",
    "        return real_LSQUnivariateSpline(uniqx, newy, t, newweights)"
   ]
  },
  {
   "cell_type": "markdown",
   "metadata": {},
   "source": [
    "## Load the 2-D science Frame"
   ]
  },
  {
   "cell_type": "code",
   "execution_count": null,
   "metadata": {},
   "outputs": [],
   "source": [
    "# load the 2D science image data\n",
    "image = fits.getdata('spec_sci.fits')"
   ]
  },
  {
   "cell_type": "code",
   "execution_count": null,
   "metadata": {},
   "outputs": [],
   "source": [
    "# determine the image pixel distribution (used for displaying below)\n",
    "sample = sigma_clip(image)\n",
    "vmin = sample.mean() - 1 * sample.std()\n",
    "vmax = sample.mean() + 3 * sample.std()"
   ]
  },
  {
   "cell_type": "code",
   "execution_count": null,
   "metadata": {},
   "outputs": [],
   "source": [
    "# show the image using matplotlib's `imshow` function\n",
    "plt.figure(figsize=(15, 3))\n",
    "plt.imshow(image, origin='lower', cmap='gray', aspect='auto', vmin=vmin, vmax=vmax)\n",
    "plt.xlabel('Column Number')\n",
    "plt.ylabel('Row Number');"
   ]
  },
  {
   "cell_type": "code",
   "execution_count": null,
   "metadata": {},
   "outputs": [],
   "source": [
    "# optional: display image in DS9\n",
    "ds9.set('frame 1')\n",
    "ds9.set_np2arr(image)\n",
    "ds9.set('scale zscale');"
   ]
  },
  {
   "cell_type": "markdown",
   "metadata": {},
   "source": [
    "Take a look at the science image above. The supplied `spec_sci.fits` image is the red channel of a Keck/LRIS spectrum taken in 2014. The image has already been process to remove bias, and the image has been trimmed and rotated (what we will call \"rows\" are actually columns on the CCD). This science image is actually a combination of two individual exposures that has been filtered to remove **most** (but not quite all) cosmic ray events. \n",
    "\n",
    "Notice the vertical bands of light. These are the sky lines. The spectrum runs from about 5000 Angstroms on the left to about 10000 Angstroms on the right (you will determine the exact range below!). Notice that there is a significantly higher density of sky lines in the near infrared. \n",
    "\n",
    "Notice the two horizontal bands of light. The lower band is the target (a small galaxy), and the upper band is a second object in the slit. If you look closely at the lower band (the target trace), you will see a number of emission lines. You will use these to determine the target redshift."
   ]
  },
  {
   "cell_type": "markdown",
   "metadata": {},
   "source": [
    "## Set up some variables for later use"
   ]
  },
  {
   "cell_type": "markdown",
   "metadata": {},
   "source": [
    "How big is the image? What are the pixel coordinates near the center of the image? Create 1-D and 2-D arrays with indices for each axis."
   ]
  },
  {
   "cell_type": "code",
   "execution_count": null,
   "metadata": {},
   "outputs": [],
   "source": [
    "# get the a pixel coordinate near the image center\n",
    "ny, nx = image.shape\n",
    "cy, cx = ny//2, nx//2\n",
    "\n",
    "# create 1d arays of the possible x and y values\n",
    "xs = np.arange(nx)\n",
    "ys = np.arange(ny)\n",
    "\n",
    "# pixel coordinates for each pixel\n",
    "yvals, xvals = np.indices(image.shape)"
   ]
  },
  {
   "cell_type": "markdown",
   "metadata": {},
   "source": [
    "## Find the rows dominated by sky light (exclude rows with object light, bad rows)"
   ]
  },
  {
   "cell_type": "markdown",
   "metadata": {},
   "source": [
    "We can use the sky lines to map out lines of constant wavelength. To do this it is best to exclude portions of the image that are affected by light from the target trace, etc. \n",
    "\n",
    "To find the rows affected by the object traces, we can just marginalize over all the columns to determine the average profile and then note where this is significantly above the background average."
   ]
  },
  {
   "cell_type": "code",
   "execution_count": null,
   "metadata": {},
   "outputs": [],
   "source": [
    "# compute the row averages and normalize so that the background is near 0 and the peaks are near 1\n",
    "rowaverage = ????\n",
    "\n",
    "plt.plot(ys, rowaverage)\n",
    "plt.xlabel('Row Number (y-coordinate)'), plt.ylabel('Normalized Row Average')\n",
    "plt.grid();"
   ]
  },
  {
   "cell_type": "markdown",
   "metadata": {},
   "source": [
    "#### Notes\n",
    "* the plot above should show peaks in the rows containing object light\n",
    "* there are some bad rows near the edges of the image\n",
    "* other rows also show significant deviations from the median and should not be used"
   ]
  },
  {
   "cell_type": "markdown",
   "metadata": {},
   "source": [
    "Based on the plot above, record the row coordinates (`ys`) that are brighter that some threshold, say 20% of the profile peak. To be conservative, also include the 5 rows above and 5 rows below.\n",
    "\n",
    "Then create a 2D boolean mask that is `True` for pixels that are dominated by sky light and `False` for other pixels."
   ]
  },
  {
   "cell_type": "code",
   "execution_count": null,
   "metadata": {},
   "outputs": [],
   "source": [
    "# find the rows with object light\n",
    "objrows = ys[????]\n",
    "\n",
    "# add some margin to object rows\n",
    "ngrow = ???? # number of rows to include above and below object rows\n",
    "newobjrows = []\n",
    "for row in objrows:\n",
    "    newobjrows.extend([row + i for i in np.arange(-ngrow, ngrow + 1)])\n",
    "objrows = np.unique(newobjrows)\n",
    "\n",
    "# mask to mark sky rows\n",
    "skymask = np.ones(image.shape, dtype=bool)\n",
    "skymask[objrows, :] = False\n",
    "\n",
    "# also exclude bad rows\n",
    "badrows = ys[rowaverage < -0.05]\n",
    "skymask[badrows, :] = False\n",
    "\n",
    "# rows with mostly sky background light\n",
    "skyrows = ys[skymask.mean(axis=1) == 1]"
   ]
  },
  {
   "cell_type": "markdown",
   "metadata": {},
   "source": [
    "With the object traces and bad rows masked, we can also check for cosmic rays and mask these as well. To do this we calculate the median value and standard deviation along each column and then reject pixels that are more than a certain number (typically 3-5) of standard deviations away from the median. These deviant pixels are then noted on the `skymask`."
   ]
  },
  {
   "cell_type": "code",
   "execution_count": null,
   "metadata": {},
   "outputs": [],
   "source": [
    "# median (unmasked) sky spectrum and standard deviation\n",
    "medspec = ????\n",
    "stdspec = ????\n",
    "\n",
    "# exclude deviant pixels from the skymask\n",
    "pull = (image - medspec) / stdspec\n",
    "w = pull > 5\n",
    "skymask[w] = False"
   ]
  },
  {
   "cell_type": "code",
   "execution_count": null,
   "metadata": {},
   "outputs": [],
   "source": [
    "# show the mask\n",
    "plt.figure(figsize=(15, 3))\n",
    "plt.imshow(skymask, origin='lower', aspect='auto');"
   ]
  },
  {
   "cell_type": "code",
   "execution_count": null,
   "metadata": {},
   "outputs": [],
   "source": [
    "# optional: display the mask in DS9\n",
    "mask = np.zeros(image.shape)\n",
    "mask[skymask] = 1\n",
    "\n",
    "ds9.set('frame 1')\n",
    "ds9.set_np2arr(image)\n",
    "ds9.set('frame 2')\n",
    "ds9.set_np2arr(mask)\n",
    "ds9.set('lock frame image');"
   ]
  },
  {
   "cell_type": "markdown",
   "metadata": {},
   "source": [
    "## Let's look at a small section of image up close"
   ]
  },
  {
   "cell_type": "code",
   "execution_count": null,
   "metadata": {},
   "outputs": [],
   "source": [
    "# cut out a small image \"stamp\" near the center of the frame\n",
    "row = cy\n",
    "col = cx\n",
    "hwidth = 50\n",
    "stamp = image[:, col - hwidth : col + hwidth]\n",
    "ys_stamp = yvals[:, col - hwidth : col + hwidth]\n",
    "xs_stamp = xvals[:, col - hwidth : col + hwidth]"
   ]
  },
  {
   "cell_type": "code",
   "execution_count": null,
   "metadata": {},
   "outputs": [],
   "source": [
    "# show the image stamp\n",
    "plt.figure(figsize=(15, 5))\n",
    "extent = (xs_stamp.min(), xs_stamp.max(), ys_stamp.min(), ys_stamp.max())\n",
    "plt.imshow(stamp, origin='lower', cmap='gray', aspect='auto', vmin=vmin, vmax=vmax, extent=extent)\n",
    "plt.xlabel('Column Number')\n",
    "plt.ylabel('Row Number');"
   ]
  },
  {
   "cell_type": "markdown",
   "metadata": {},
   "source": [
    "Recall the vertical bands are sky lines that mark lines of constant wavelength. Notice that these do not run perfectly parallel to the columns. Rather, the `x` coordinate for a given wavelength will be a function of the row number. \n",
    "\n",
    "As the plot should demonstrate, the lines of constant wavelength are slightly tilted with respect to the columns and there is also slight curvature. Thus we can approximate that the `x` coordinate for a given wavelength will be a quadratic function of the row number."
   ]
  },
  {
   "cell_type": "markdown",
   "metadata": {},
   "source": [
    "#### Note\n",
    "Because wavelength varies along a given column, if we simply plot the counts in each pixel against each pixel's column number then we get a range of values in each column:"
   ]
  },
  {
   "cell_type": "code",
   "execution_count": null,
   "metadata": {},
   "outputs": [],
   "source": [
    "# plot stamp values against column numbers\n",
    "plt.plot(xs_stamp.ravel(), stamp.ravel(), 'r.');\n",
    "plt.xlabel('Column Number'), plt.ylabel('Counts');"
   ]
  },
  {
   "cell_type": "markdown",
   "metadata": {},
   "source": [
    "## Map out lines of constant wavelength (determine the wavelength for each pixel)"
   ]
  },
  {
   "cell_type": "markdown",
   "metadata": {},
   "source": [
    "We can model the change in wavelength coordinate in arbitrary units, `dl`, from the wavelength at some reference pixel in terms of the offsets, `dx` and `dy` from the reference pixel.\n",
    "\n",
    "We can then write down a function that takes our model parameters (the slope and curvature of the lines of constant wavelength with respect to the columns), the offsets in the x and y coordinates, `dxs` and `dys`, respectively, and returns the wavelength offset from the reference pixel (i.e. `dx = dy = 0`)."
   ]
  },
  {
   "cell_type": "code",
   "execution_count": null,
   "metadata": {},
   "outputs": [],
   "source": [
    "def get_dl_model(params, dxs, dys):\n",
    "    return dxs + params[0] * dys + params[1] * dys ** 2"
   ]
  },
  {
   "cell_type": "markdown",
   "metadata": {},
   "source": [
    "To see how this works, make a guess for the slope and curvature parameters and try plotting the wavelength offsets from our reference pixel (the one at `x=col` and `y=row`)."
   ]
  },
  {
   "cell_type": "code",
   "execution_count": null,
   "metadata": {},
   "outputs": [],
   "source": [
    "# pixel offsets from the refernece pixel\n",
    "dxs = xs_stamp - col\n",
    "dys = ys_stamp - row\n",
    "\n",
    "# parameter guess\n",
    "guess = ????\n",
    "\n",
    "# get the wavelength offsets and plot vs. counts\n",
    "dls = get_dl_model(guess, dxs, dys)\n",
    "plt.plot(dls.ravel(), stamp.ravel(), 'r.')\n",
    "plt.xlabel('Wavelength Offset')\n",
    "plt.ylabel('Counts');"
   ]
  },
  {
   "cell_type": "markdown",
   "metadata": {},
   "source": [
    "You should notice that for the right choice of model parameters, the vertical scatter is significantly reduced. This demonstrates one way to decide on the best model parameters: find the model parameters that minimize the vertical scatter. But how do we measure this scatter?"
   ]
  },
  {
   "cell_type": "markdown",
   "metadata": {},
   "source": [
    "## Fit a spline to the counts spectrum above"
   ]
  },
  {
   "cell_type": "markdown",
   "metadata": {},
   "source": [
    "Given the data above (the wavelength offsets, `dls`, and the stamp count values) we can fit a spline to the resulting curve above and then subtract this off from the curve and measure the scatter. Notice that for every column we get a lot of samples (`ny` to be precise). Thus we can set the spline knots every pixel (or even closer).\n",
    "\n",
    "We can define a function that will return the best fit spline object (in the least-squares sense) for our data."
   ]
  },
  {
   "cell_type": "code",
   "execution_count": null,
   "metadata": {},
   "outputs": [],
   "source": [
    "def get_profile_spl(dls, stamp):\n",
    "    # need to sort the data (and weights) so that the x values are increasing\n",
    "    x, y = dls.ravel(), stamp.ravel()\n",
    "    weights = np.sqrt(np.abs(y)) # not technically optimal for coadded data, but ok\n",
    "    wsort = x.argsort()\n",
    "    x, y, weights = x[wsort], y[wsort], weights[wsort]\n",
    "\n",
    "    # set locations for spline knots\n",
    "    t = np.linspace(x.min() + 1, x.max() - 1, np.int(x.max() - x.min()))\n",
    "    spl = LSQUnivariateSpline(x, y, t, weights)\n",
    "    return x, y, spl"
   ]
  },
  {
   "cell_type": "markdown",
   "metadata": {},
   "source": [
    "Lets see how good this looks."
   ]
  },
  {
   "cell_type": "code",
   "execution_count": null,
   "metadata": {},
   "outputs": [],
   "source": [
    "# fit a spline to the data and plot\n",
    "x, y, spl = get_profile_spl(dls, stamp)\n",
    "\n",
    "fig, axarr = plt.subplots(2, sharex=True)\n",
    "axarr[0].plot(x, y, 'r.')\n",
    "axarr[0].plot(x, spl(x))\n",
    "axarr[1].plot(x, y - spl(x), 'r.')\n",
    "plt.ylim(-200, 200)\n",
    "plt.xlabel('Wavelength Offset');"
   ]
  },
  {
   "cell_type": "markdown",
   "metadata": {},
   "source": [
    "#### Notice\n",
    " * the counts may vary along the slit (both because of real spatial variations and, more importantly, we have not accounted for efficiency variations along the slit), so there may be some biased scatter\n",
    " * the parameter guess above may be imperfect resulting in systematic residuals (we can minimize these below)"
   ]
  },
  {
   "cell_type": "markdown",
   "metadata": {},
   "source": [
    "## Minimize residuals from the spline model to determine the best tilt/curvature model"
   ]
  },
  {
   "cell_type": "markdown",
   "metadata": {},
   "source": [
    "We need a metric to determine how well the spline fits the data. We could take a simple sum of the squares of the residuals or weight these by the expected poison noise to determine a $\\chi^2$ value."
   ]
  },
  {
   "cell_type": "code",
   "execution_count": null,
   "metadata": {},
   "outputs": [],
   "source": [
    "def check_dl_model(params, dxs, dys, stamp):\n",
    "    dls = get_dl_model(params, dxs, dys)\n",
    "    x, y, spl = get_profile_spl(dls, stamp)\n",
    "    chisq = np.sum((stamp - spl(dls)) ** 2 / np.sqrt(np.abs(stamp)))\n",
    "    return chisq / (stamp.size - len(params))"
   ]
  },
  {
   "cell_type": "code",
   "execution_count": null,
   "metadata": {},
   "outputs": [],
   "source": [
    "# see how good our guess is\n",
    "check_dl_model(guess, dxs, dys, stamp)"
   ]
  },
  {
   "cell_type": "markdown",
   "metadata": {},
   "source": [
    "Now we just need to change the model parameters to minimize the residuals. We can use `fmin` for this."
   ]
  },
  {
   "cell_type": "code",
   "execution_count": null,
   "metadata": {
    "scrolled": true
   },
   "outputs": [],
   "source": [
    "if SPLINE_WORKS is False:\n",
    "    print(\"the hacked version of LSQUnivariateSpline is VERY slow...this cell might take a minute or more to run!\")\n",
    "\n",
    "# get the best model parameters for this stamp\n",
    "params = fmin(check_dl_model, guess, args=(dxs, dys, stamp))\n",
    "print(\"best model parameters are\", params)"
   ]
  },
  {
   "cell_type": "markdown",
   "metadata": {},
   "source": [
    "You can plug in these parameters for your `guess` above and re-run the cells to check the residuals if you want."
   ]
  },
  {
   "cell_type": "markdown",
   "metadata": {},
   "source": [
    "## Find the lines of constant wavelength at other parts of the 2-D image"
   ]
  },
  {
   "cell_type": "markdown",
   "metadata": {},
   "source": [
    "The tilt/curvature between lines of constant wavelength and the columns can vary across the spectrum. So far we have only determined it for a small portion of the image. Now we can apply the same techniques to map out the relative wavelengths shifts across the image.\n",
    "\n",
    "To do this, we need to pick a width (number of columns) within which we can expect to get enough sky lines to do the mapping. Considering the left side (shorter wavelength or \"blue\" portion) of the spectrum, we can set the width at about 400 columns. (Note it is possible to vary the width across the image to take advantage of the extra wavelength information in the near-IR, but this is not required)."
   ]
  },
  {
   "cell_type": "code",
   "execution_count": null,
   "metadata": {},
   "outputs": [],
   "source": [
    "# define the column centers for the stamps\n",
    "hwidth = 200 # stamp width = 2 * hwidth + 1\n",
    "cols = np.arange(hwidth, nx, 2 * hwidth)\n",
    "cols"
   ]
  },
  {
   "cell_type": "markdown",
   "metadata": {},
   "source": [
    "As above, map out the wavelength shits along columns, one stamp (image section) at a time. It is best to use the sky mask we defined above and possibly some outlier rejection to fend off deviant pixels.\n",
    "\n",
    "Notice that the code cell below will keep track of the wavelength offsets for all columns, but really we only need the central columns defined above.\n",
    "\n",
    "#### Note: the code below might take some time to run. If you are using the hacked version of LSQUnivariateSpline, you should probably skip this cell and load the solution below"
   ]
  },
  {
   "cell_type": "code",
   "execution_count": null,
   "metadata": {
    "scrolled": true
   },
   "outputs": [],
   "source": [
    "# reference wavelength offsets to the center row\n",
    "row = cy\n",
    "\n",
    "# define a 2D array to hold the wavelength offsets for each pixel\n",
    "lambdas = np.zeros(image.shape) \n",
    "\n",
    "# loop over each central column\n",
    "for col in cols:\n",
    "    print('col = ', col)\n",
    "    \n",
    "    # slice the data\n",
    "    inds = np.s_[:, col - hwidth : col + hwidth]\n",
    "    stamp = image[inds]\n",
    "    mask = skymask[inds]\n",
    "    dys = yvals[inds] - row\n",
    "    dxs = xvals[inds] - col\n",
    "\n",
    "    # initial fit\n",
    "    params = fmin(check_dl_model, guess, args=(dxs[mask], dys[mask], stamp[mask]))\n",
    "    \n",
    "    # check for outliers\n",
    "    dls = get_dl_model(guess, dxs, dys)\n",
    "    x, y, spl = get_profile_spl(dls, stamp)\n",
    "    model = spl(dls)\n",
    "    pull = (stamp - model) / np.sqrt(np.abs(model))\n",
    "    w = (pull < 5) & mask\n",
    "    params2 = fmin(check_dl_model, params, args=(dxs[w], dys[w], stamp[w]))\n",
    "\n",
    "    # record\n",
    "    lambdas[inds] = get_dl_model(params2, dxs, dys) + col\n"
   ]
  },
  {
   "cell_type": "code",
   "execution_count": null,
   "metadata": {},
   "outputs": [],
   "source": [
    "if SPLINE_WORKS is False:\n",
    "    lambdas = pickle.load(open('lambdas.dat', 'rb'))\n",
    "\n",
    "# **********************\n",
    "# save the lambdas\n",
    "#pickle.dump(lambdas, open('lambdas.dat', 'wb'))\n",
    "# **********************"
   ]
  },
  {
   "cell_type": "markdown",
   "metadata": {
    "slideshow": {
     "slide_type": "fragment"
    }
   },
   "source": [
    "Look at a few rows and see how the wavelength offsets vary with column number. We can fit a low-order polynomial to these."
   ]
  },
  {
   "cell_type": "code",
   "execution_count": null,
   "metadata": {},
   "outputs": [],
   "source": [
    "# just plot offsets for a few of the rows across the image\n",
    "order = ????\n",
    "for y in range(10, ny, 50):\n",
    "    p = plt.plot(cols, lambdas[y, cols] - xs[cols], 'o')\n",
    "    c = np.polyfit(cols, lambdas[y, cols] - xs[cols], order)\n",
    "    plt.plot(xs, np.polyval(c, xs), c=p[0].get_color(), label='row {}'.format(y))\n",
    "plt.legend()\n",
    "plt.xlabel('Column Number')\n",
    "plt.ylabel('Wavelength Offset from Middle Row');"
   ]
  },
  {
   "cell_type": "markdown",
   "metadata": {},
   "source": [
    "You may notice that the tilt (the wavelength difference in a given column between the first row and the last row) increases as we move to larger column numbers. Make sure the order is large enough to follow the trends without over fitting the data (i.e. there should not be noticeable wiggles between data points).\n",
    "\n",
    "Now we can fit for every row. We could do a 2D fit to all the data at once, but simply fitting row by row works here."
   ]
  },
  {
   "cell_type": "code",
   "execution_count": null,
   "metadata": {},
   "outputs": [],
   "source": [
    "# get the lambda values for the entire image (fit)\n",
    "lambdafit = np.zeros(image.shape)\n",
    "for y in range(ny):\n",
    "    c = np.polyfit(cols, lambdas[y, cols] - xs[cols], order)\n",
    "    lambdafit[y, :] = np.polyval(c, xs) + xs"
   ]
  },
  {
   "cell_type": "markdown",
   "metadata": {},
   "source": [
    "Now for the fun part! We have wavelength values relative to the central row (in arbitrary units) for every pixel on the image, which means we can do some cool tricks."
   ]
  },
  {
   "cell_type": "markdown",
   "metadata": {},
   "source": [
    "## Model the 2D sky"
   ]
  },
  {
   "cell_type": "markdown",
   "metadata": {},
   "source": [
    "We want to measure the light from our target, not the night sky, so lets make those sky lines disappear! We can do a 2-D spline fit to the sky background pixels to create a sky model. As above, we have about `ny` measurements in each wavelength bin, so we can set the knot points along the wavelength direction about every pixel (or even less!). We do not expect strong variations in the sky brightness along the slit, so we can simply fit a low order polynomial along this direction (which we will approximate for now using the y-coordinates)."
   ]
  },
  {
   "cell_type": "code",
   "execution_count": null,
   "metadata": {},
   "outputs": [],
   "source": [
    "# function to fit a 2D spline\n",
    "def fit_sky(xvals, yvals, image, ky=1, dx=0.5):\n",
    "    # select knot points in the x (wavelength) direction\n",
    "    tx = np.arange(xvals.min() + 2, xvals.max() - 2, dx)\n",
    "    \n",
    "    # select knot points in the y (spatial) direction\n",
    "    ty = [] # if there are no knots, the fit will be a poly nomial of degree ky\n",
    "    \n",
    "    # fit the 2D spline\n",
    "    return LSQBivariateSpline(xvals.ravel(), yvals.ravel(), image.ravel(), tx, ty, ky=ky)"
   ]
  },
  {
   "cell_type": "code",
   "execution_count": null,
   "metadata": {},
   "outputs": [],
   "source": [
    "# use the (unmasked) sky background pixels and fit the 2D spline\n",
    "skyfit = fit_sky(lambdafit[????], yvals[????], image[????])\n",
    "\n",
    "# evaluate the 2D sky at every pixel\n",
    "sky = skyfit.ev(lambdafit, yvals)"
   ]
  },
  {
   "cell_type": "code",
   "execution_count": null,
   "metadata": {},
   "outputs": [],
   "source": [
    "# plot the image, sky model, and differece (and/or display in DS9)\n",
    "ds9.set('frame 1')\n",
    "ds9.set_np2arr(image)\n",
    "ds9.set('frame 2')\n",
    "ds9.set_np2arr(sky)\n",
    "ds9.set('frame 3')\n",
    "ds9.set_np2arr(image - sky);"
   ]
  },
  {
   "cell_type": "markdown",
   "metadata": {},
   "source": [
    "Notice how well the object trace stands out now. Analogous to the sky lines, the object trace is slightly tilted with respect to the rows. Thus to extract our spectrum we need to map out the y-values where the trace is centered as a function of column number."
   ]
  },
  {
   "cell_type": "markdown",
   "metadata": {},
   "source": [
    "## Locate object trace"
   ]
  },
  {
   "cell_type": "markdown",
   "metadata": {},
   "source": [
    "There are actually two object traces in our data, so let's simultaneously find the centers of each of these. The object that makes the lower trace is actually a galaxy, but we can approximate its distribution of light along the slit with a Gaussian function, and we can do the same for the other object. Thus our profile model will be the sum of two Gaussians. "
   ]
  },
  {
   "cell_type": "code",
   "execution_count": null,
   "metadata": {},
   "outputs": [],
   "source": [
    "def get_profile_model(params, ys):\n",
    "    a1, cy1, sigma1, a2, cy2, sigma2 = params\n",
    "    \n",
    "    p1 = np.exp(-(ys - cy1)**2 / 2 / sigma1**2) \n",
    "    p1 /= p1.max()\n",
    "    \n",
    "    p2 = np.exp(-(ys - cy2)**2 / 2 / sigma2**2) \n",
    "    p2 /= p2.max()\n",
    "\n",
    "    return a1 * p1 + a2 * p2"
   ]
  },
  {
   "cell_type": "markdown",
   "metadata": {},
   "source": [
    "Now that we have our model, we can make a guess at the parameters and check by eye how well these represent the data. Change the guess until the model is a reasonably close match to the data (this need not be perfect)."
   ]
  },
  {
   "cell_type": "code",
   "execution_count": null,
   "metadata": {},
   "outputs": [],
   "source": [
    "# get the median for each row\n",
    "profile = np.median(image - sky, axis=1)\n",
    "\n",
    "# starting guess for the profile model\n",
    "guess = ????\n",
    "model = get_profile_model(guess, ys)\n",
    "\n",
    "plt.plot(ys, profile)\n",
    "plt.plot(ys, model);\n",
    "plt.xlabel('Row Number')\n",
    "plt.ylabel('Median Row Counts');"
   ]
  },
  {
   "cell_type": "markdown",
   "metadata": {},
   "source": [
    "Of course, we can improve the model by minimizing the model residuals (or $\\chi^2$/dof)."
   ]
  },
  {
   "cell_type": "code",
   "execution_count": null,
   "metadata": {},
   "outputs": [],
   "source": [
    "def get_profile_chisq(params, ys, profile):\n",
    "    model = get_profile_model(params, ys)\n",
    "    return np.sum( (profile - model)**2 / np.sqrt(np.abs(profile)) ) / (profile.size - len(params))"
   ]
  },
  {
   "cell_type": "code",
   "execution_count": null,
   "metadata": {},
   "outputs": [],
   "source": [
    "# fit for the best model\n",
    "params = fmin(get_profile_chisq, guess, args=(ys, profile))\n",
    "print(\"best fit parameters are\", params)\n",
    "\n",
    "model = get_profile_model(params, ys)\n",
    "plt.plot(ys, profile)\n",
    "plt.plot(ys, model)\n",
    "plt.xlabel('Row Number')\n",
    "plt.ylabel('Median Row Counts')\n",
    "plt.grid();"
   ]
  },
  {
   "cell_type": "markdown",
   "metadata": {},
   "source": [
    "We could fit a more complex model that accounts for the vertical shift of the traces with column numbers, but here we simply divide the image up into sections by wavelength and find the Gaussian centroids in each of these."
   ]
  },
  {
   "cell_type": "code",
   "execution_count": null,
   "metadata": {
    "scrolled": true
   },
   "outputs": [],
   "source": [
    "# fit the profile centered at these columns\n",
    "hwidth = 50\n",
    "cols = np.arange(hwidth, nx + 1, 2 * hwidth)\n",
    "\n",
    "ycenter = np.zeros( (len(cols), 2) )\n",
    "for icol, col in enumerate(cols):\n",
    "    stamp = (image - sky)[:, col - hwidth : col + hwidth]\n",
    "    profile = np.mean(stamp, axis=1)\n",
    "    params = fmin(get_profile_chisq, guess, args=(ys, profile))\n",
    "    ycenter[icol, :] = params[[1, 4]]"
   ]
  },
  {
   "cell_type": "markdown",
   "metadata": {},
   "source": [
    "Lets see how the y-center of our target's trace varies with column number. We can fit a polynomial to the trend and use this to estimate the y-center at any column."
   ]
  },
  {
   "cell_type": "code",
   "execution_count": null,
   "metadata": {},
   "outputs": [],
   "source": [
    "# fit the relation with a polynomial\n",
    "ind = 0 # which trace 0 or 1?\n",
    "t_order = ????\n",
    "trace_c = np.polyfit(cols, ycenter[:, ind], t_order)\n",
    "fig, axarr = plt.subplots(2, sharex=True)\n",
    "axarr[0].plot(cols, ycenter[:, ind], 'ro')\n",
    "axarr[0].plot(xs, np.polyval(trace_c, xs), 'r')\n",
    "axarr[0].axes.set_ylabel('y-coordinate')\n",
    "axarr[1].plot(cols, ycenter[:, ind] - np.polyval(trace_c, cols), 'ro')\n",
    "axarr[1].axes.set_ylim(-0.5, 0.5)\n",
    "axarr[1].axes.set_ylabel('Fit Residual (pixels)')\n",
    "plt.xlabel('Column Number');"
   ]
  },
  {
   "cell_type": "markdown",
   "metadata": {},
   "source": [
    "The typical residuals should be a small fraction of a pixel. \n",
    "\n",
    "**Note** we are fitting a Gaussian model to a non-Gaussian (galaxy) profile, so the center value may be systematically offset.\n",
    "\n",
    "Now we can get the pixel offsets from the object trace for every pixel in the image. To properly account for non-linearities along the trace (i.e. the pixel scale may be 0.1 arcsec per y-pixel on the blue side but 0.12 arcsec per pixel on the red side) we could use the second object trace and the relative wavelength information, but here we will simply assume a simple linear relation."
   ]
  },
  {
   "cell_type": "code",
   "execution_count": null,
   "metadata": {},
   "outputs": [],
   "source": [
    "# position offsets from the object trace (defined to be at slitpos = 0)\n",
    "slitpos = yvals - np.polyval(trace_c, yvals)"
   ]
  },
  {
   "cell_type": "markdown",
   "metadata": {},
   "source": [
    "## Spatial profile of the target"
   ]
  },
  {
   "cell_type": "markdown",
   "metadata": {},
   "source": [
    "Next, determine the spatial profile of the target and stretch this over the whole 2D image to make a weight map for later use.\n",
    "\n",
    "The brightness of the target will vary as a function of wavelength, so to determine the profile we can normalize the counts in each wavelength bin using the counts at the trace center (or our approximation there of)."
   ]
  },
  {
   "cell_type": "code",
   "execution_count": null,
   "metadata": {},
   "outputs": [],
   "source": [
    "# subtract the sky\n",
    "nosky = image - sky\n",
    "\n",
    "# normalize to the pixel brightness at the trace center\n",
    "yinds = (np.round(np.polyval(trace_c, xs))).astype(int)\n",
    "normed = nosky / ????"
   ]
  },
  {
   "cell_type": "markdown",
   "metadata": {},
   "source": [
    "Fit a spline to the normalized profile"
   ]
  },
  {
   "cell_type": "code",
   "execution_count": null,
   "metadata": {},
   "outputs": [],
   "source": [
    "# get 1D arrays with the positions along the slit and the normalized counts\n",
    "pos = slitpos.flatten()\n",
    "counts = normed.flatten()\n",
    "\n",
    "# sort by slit position\n",
    "sort_inds = pos.argsort()\n",
    "pos, counts = pos[sort_inds], counts[sort_inds]\n",
    "\n",
    "# fit a spline to model the spatial profile\n",
    "t = np.linspace(pos.min() + 2, pos.max() - 2, ny // 2) # spline knot points\n",
    "profile_spl = LSQUnivariateSpline(pos, counts, t)\n",
    "\n",
    "# remove outliers and re-fit\n",
    "diff = counts - profile_spl(pos)\n",
    "sample = sigma_clip(diff)\n",
    "w = ((np.abs(diff) / sample.std()) < 5) & np.isfinite(diff)\n",
    "profile_spl = LSQUnivariateSpline(pos[w], counts[w], t)"
   ]
  },
  {
   "cell_type": "code",
   "execution_count": null,
   "metadata": {},
   "outputs": [],
   "source": [
    "# plot the target profile\n",
    "plt.plot(pos, profile_spl(pos) )\n",
    "plt.xlim(-40, 50)\n",
    "plt.grid();"
   ]
  },
  {
   "cell_type": "markdown",
   "metadata": {},
   "source": [
    "Calculate the profile for every column to make a 2D profile image."
   ]
  },
  {
   "cell_type": "code",
   "execution_count": null,
   "metadata": {},
   "outputs": [],
   "source": [
    "# create the profile image\n",
    "profile_image = profile_spl(????)\n",
    "\n",
    "# de-weight negative values in provile_image\n",
    "profile_image[profile_image < 0] = 0"
   ]
  },
  {
   "cell_type": "code",
   "execution_count": null,
   "metadata": {},
   "outputs": [],
   "source": [
    "# display the result\n",
    "ds9.set('frame 4')\n",
    "ds9.set_np2arr(profile_image);"
   ]
  },
  {
   "cell_type": "markdown",
   "metadata": {},
   "source": [
    "## Extract the target spectrum (basic version)"
   ]
  },
  {
   "cell_type": "markdown",
   "metadata": {},
   "source": [
    "We have located the target trace, the sky background has been removed, so all that is left to do is sum up the counts in each wavelength bin in some aperture. We can pick any size wavelength bin we like, but at this phase it is common to use the native pixel scale to set the binning. If the target extends over many pixels in the spatial direction or the tilt/curvature of the lines of constant wavelength is large, you may have to take into account the changes in wavelength with row number. But for the supplied data the change in wavelength is not significant along the short extraction window, so we can simply sum along columns."
   ]
  },
  {
   "cell_type": "code",
   "execution_count": null,
   "metadata": {},
   "outputs": [],
   "source": [
    "# select which rows to sum\n",
    "w = (slitpos > ????) & (slitpos < ????)\n",
    "ymin, ymax = yvals[w].min(), yvals[w].max()\n",
    "\n",
    "# calculate the sum\n",
    "spec_basic = ????\n",
    "\n",
    "# sky background\n",
    "skybg_basic = ????\n",
    "\n",
    "# plot the extracted spectrum\n",
    "plt.plot(xs, spec_basic);"
   ]
  },
  {
   "cell_type": "markdown",
   "metadata": {},
   "source": [
    "## Optimal extraction"
   ]
  },
  {
   "cell_type": "markdown",
   "metadata": {},
   "source": [
    "Analogous to PSF-fitting in 2D image data, we can weight the extraction using the spatial profile we calculated above to limit the noise from pixels that are dominated by the sky background. Instead of fitting a model to the data however, we will simply calculate a weighted average in each wavelength bin. Using our basic extraction above we can determine the bias between the sum and the weighted average and then use this to re-scale the weighted average, because ultimately we want the sum of the counts from the target, not the average in each wavelength bin."
   ]
  },
  {
   "cell_type": "code",
   "execution_count": null,
   "metadata": {},
   "outputs": [],
   "source": [
    "# calculate the weighted average (for each column)\n",
    "spec_opt = ????\n",
    "\n",
    "# calculate the bias factor needed to scale the average to a sum\n",
    "bias_factor = np.median(spec_basic / spec_opt)\n",
    "spec_opt *= bias_factor\n",
    "\n",
    "# same for the sky background\n",
    "skybg_opt = ????\n",
    "bias_factor_sky = np.median(skybg_basic / skybg_opt)\n",
    "skybg_opt *= bias_factor_sky\n",
    "\n",
    "# plot the extracted spectrum\n",
    "plt.plot(xs, spec_basic, label='basic extraction');\n",
    "plt.plot(xs, spec_opt, label='optimal extraction');\n",
    "#plt.ylim(0, 2000);\n",
    "#plt.yscale('log')"
   ]
  },
  {
   "cell_type": "markdown",
   "metadata": {},
   "source": [
    "If you look closely you should see that the basic extraction is noisier than the optimal."
   ]
  },
  {
   "cell_type": "markdown",
   "metadata": {},
   "source": [
    "## Wavelength solution"
   ]
  },
  {
   "cell_type": "markdown",
   "metadata": {},
   "source": [
    "Up to now we have been working with relative wavelengths. Now we will use the emission lines to calibrate these into absolute wavelengths. \n",
    "\n",
    "There are several ways to do this. One method is to match the sky lines to a published atlas to determine the identity of several lines and then use the known wavelengths of these to determine the relative to absolute mapping function.\n",
    "\n",
    "Instead of working with individual lines, we can instead find a mapping that matches our extracted sky spectrum to a reference spectrum with a calibrated wavelength axis. Ideally this reference should be matched in spectral resolution (and spectral response) to the data at hand. This module includes such a reference spectrum, which is a version of the [UVES high-resolution night sky spectrum](https://www.eso.org/observing/dfo/quality/UVES/pipeline/sky_spectrum.html) convolved to roughly match the resoultion of the Keck/LRIS data (but not the response)."
   ]
  },
  {
   "cell_type": "code",
   "execution_count": null,
   "metadata": {},
   "outputs": [],
   "source": [
    "# re-scale the sky spectrum so that the max counts are around 1 for convience\n",
    "bgspec = skybg_opt / skybg_opt.max()"
   ]
  },
  {
   "cell_type": "code",
   "execution_count": null,
   "metadata": {},
   "outputs": [],
   "source": [
    "# load the reference sky spectrum (conviently convolved to approximatley the spectral resulution of our data)\n",
    "skyref = np.genfromtxt('UVES_nightsky_lowres.dat', names='wav, flux')"
   ]
  },
  {
   "cell_type": "markdown",
   "metadata": {},
   "source": [
    "Plot the reference and extracted sky spectra on two separate plots and adjust the wavelength range of the reference spectrum until the two roughly match. This will help you see the mapping between column numbers and wavelengths."
   ]
  },
  {
   "cell_type": "code",
   "execution_count": null,
   "metadata": {},
   "outputs": [],
   "source": [
    "# compare the reference spectrum and the extracted sky spectrum\n",
    "fig, axarr = plt.subplots(2)\n",
    "axarr[0].plot(skyref['wav'], skyref['flux'])\n",
    "axarr[0].axes.set_ylabel('Flux Density ($10^{16} f_{\\lambda}$)')\n",
    "axarr[0].axes.set_xlabel('Wavelength ($\\AA$)')\n",
    "\n",
    "# adjust the wavlength range to approx. match the extracted sky spectrum range\n",
    "axarr[0].axes.set_xlim(????)\n",
    "\n",
    "# plot the extracted sky spectrum \n",
    "axarr[1].plot(xs, bgspec)\n",
    "axarr[1].axes.set_ylabel('Counts')\n",
    "axarr[1].axes.set_xlabel('Column Number');"
   ]
  },
  {
   "cell_type": "markdown",
   "metadata": {},
   "source": [
    "By scaling the extracted counts to roughly match the reference spectrum and shifting/scaling the column number values to match the reference spectrum wavelengths, we can determine column number to wavelength mapping.\n",
    "\n",
    "Let's define a function that takes our column numbers and counts spectra and returns a spectrum with wavelengths and fluxes that roughly match the reference spectrum. Note you usually match a model to the data, but here we go the other way.\n",
    "\n",
    "If we fit the extracted spectrum over a limited wavelength range, we can approximate the mapping with a quadratic function. "
   ]
  },
  {
   "cell_type": "code",
   "execution_count": null,
   "metadata": {},
   "outputs": [],
   "source": [
    "def model_sky(params, dx, counts):\n",
    "    wav0, a, b, scale, c0 = params\n",
    "    \n",
    "    dtype = []\n",
    "    dtype.append(('wav', float))\n",
    "    dtype.append(('flux', float))\n",
    "    model = np.zeros(counts.shape, dtype=dtype)\n",
    "    model['wav'] = wav0 + a * dx + b * dx**2\n",
    "    model['flux'] = c0 + scale * counts\n",
    "    \n",
    "    return model"
   ]
  },
  {
   "cell_type": "code",
   "execution_count": null,
   "metadata": {},
   "outputs": [],
   "source": [
    "# roughly match column values to wavelength values\n",
    "col = 2000\n",
    "wav = ????\n",
    "params = (wav, ????)\n",
    "model = model_sky(params, xs - col, bgspec)\n",
    "\n",
    "plt.plot(model['wav'], model['flux'], label='Extracted Sky Background')\n",
    "plt.plot(skyref['wav'], skyref['flux'], label='Reference Sky Spectrum')\n",
    "plt.xlabel('Wavelength ($\\AA$)')\n",
    "plt.ylabel('Counts or Flux')\n",
    "plt.xlim(????)\n",
    "plt.legend();"
   ]
  },
  {
   "cell_type": "markdown",
   "metadata": {},
   "source": [
    "You may find that over the full wavelength range the quadratic mapping is not sufficient. One way to handle this would be to adopt a higher order mapping function. Instead, we can use the quadratic function to find the mapping over a number of sections of limited wavelength range.\n",
    "\n",
    "The procedure is similar to what has already been done above: make an initial guess for the model parameters and then minimize the difference between the scaled model and the reference spectrum."
   ]
  },
  {
   "cell_type": "code",
   "execution_count": null,
   "metadata": {},
   "outputs": [],
   "source": [
    "# we must interpolate the reference spectrum to the model wavelengths\n",
    "skyref_interp = interp1d(skyref['wav'], skyref['flux'], bounds_error=False)\n",
    "\n",
    "def get_sky_difference(params, dx, specdata, skyatlas):\n",
    "    model = model_sky(params, dx, specdata)\n",
    "    \n",
    "    # residual\n",
    "    res = model['flux'] - skyref_interp(model['wav'])\n",
    "    \n",
    "    return np.sum(res**2 / np.sqrt(np.abs(model['flux'])))"
   ]
  },
  {
   "cell_type": "markdown",
   "metadata": {},
   "source": [
    "Select sections of the extracted spectrum to fit. Since there is a lower density of lines in the blue (left) portion of the spectrum, we need larger bins to ensure we have sufficient information to fit."
   ]
  },
  {
   "cell_type": "code",
   "execution_count": null,
   "metadata": {},
   "outputs": [],
   "source": [
    "cols = [200 * (i + 1) for i in range(8)]\n",
    "cols.extend([max(cols) + 100 * (i + 1) for i in range(51)])\n",
    "cols = np.array(cols)\n",
    "\n",
    "hwidths = (cols[1:] - cols[:-1]) // 2\n",
    "cols = cols[:-1]\n",
    "w = (cols + hwidths) < nx\n",
    "cols = cols[w]\n",
    "hwidths = hwidths[w]\n",
    "cols, hwidths"
   ]
  },
  {
   "cell_type": "markdown",
   "metadata": {},
   "source": [
    "Set up an array to hold the best-fit parameters from each section."
   ]
  },
  {
   "cell_type": "code",
   "execution_count": null,
   "metadata": {},
   "outputs": [],
   "source": [
    "nparams = 5\n",
    "fitparams = np.zeros((cols.size, nparams)) + np.nan"
   ]
  },
  {
   "cell_type": "markdown",
   "metadata": {},
   "source": [
    "Write a function to show the fitting results."
   ]
  },
  {
   "cell_type": "code",
   "execution_count": null,
   "metadata": {},
   "outputs": [],
   "source": [
    "def plot_sky_model(skyref, model):\n",
    "    plt.plot(model['wav'], model['flux'], label='Extracted Sky Background');\n",
    "    plt.plot(skyref['wav'], skyref['flux'], label='Reference Sky Spectrum');\n",
    "    plt.xlim(model['wav'].min(), model['wav'].max());\n",
    "    plt.ylim(model['flux'].min() - 0.25, model['flux'].max() + 0.25)\n",
    "\n",
    "    plt.xlabel('Wavelength ($\\AA$)')\n",
    "    plt.ylabel('Scaled Counts or Flux')\n",
    "    plt.legend();"
   ]
  },
  {
   "cell_type": "markdown",
   "metadata": {},
   "source": [
    "Start by guessing a solution for one of the middle sections"
   ]
  },
  {
   "cell_type": "code",
   "execution_count": null,
   "metadata": {},
   "outputs": [],
   "source": [
    "ind = 11\n",
    "col = cols[ind]\n",
    "hwidth = hwidths[ind]\n",
    "guess = ????\n",
    "w = (xs > (col - hwidth)) & (xs < (col + hwidth))\n",
    "model = model_sky(guess, xs[w] - col, bgspec[w])\n",
    "plot_sky_model(skyref, model)"
   ]
  },
  {
   "cell_type": "code",
   "execution_count": null,
   "metadata": {},
   "outputs": [],
   "source": [
    "# fit for the best mapping parameters\n",
    "bestparams = fmin(get_sky_difference, guess, args=(xs[w] - col, bgspec[w], skyref), maxiter=10000)\n",
    "print(\"best-fit parameters are\", bestparams)\n",
    "\n",
    "model = model_sky(bestparams, xs[w] - col, bgspec[w])\n",
    "plot_sky_model(skyref, model)"
   ]
  },
  {
   "cell_type": "markdown",
   "metadata": {},
   "source": [
    "Keep track of the best-fit parameters"
   ]
  },
  {
   "cell_type": "code",
   "execution_count": null,
   "metadata": {},
   "outputs": [],
   "source": [
    "# initial solution\n",
    "fitparams[ind, :] = bestparams"
   ]
  },
  {
   "cell_type": "markdown",
   "metadata": {},
   "source": [
    "Now we can use this first solution to guess starting values for adjacent sections. We can write a function to help automate the process."
   ]
  },
  {
   "cell_type": "code",
   "execution_count": null,
   "metadata": {},
   "outputs": [],
   "source": [
    "def fit_another(xs, cols, hwidths, fitparams, i, plot=True):\n",
    "    col = cols[i]\n",
    "    hwidth = hwidths[i]\n",
    "    \n",
    "    # find the closest matching index with a valid fit\n",
    "    inds = np.arange(cols.size)\n",
    "    w = np.isfinite(fitparams[:, 0]) & (inds != i)\n",
    "    iref = inds[w][np.argmin(np.abs(inds[w] - i))]\n",
    "    print(\"reference index is \", iref)\n",
    "\n",
    "    # get the wavelength guess\n",
    "    if w.sum() == 0:\n",
    "        print(\"not enough data to make guess...bye!\")\n",
    "        return\n",
    "    if w.sum() < 4:\n",
    "        guess = fitparams[iref, :].copy()\n",
    "        guess[0] = guess[0] + guess[1] * (cols[i] - cols[iref])\n",
    "    else:\n",
    "        if w.sum() > 9:\n",
    "            order = 3\n",
    "        elif w.sum() > 6:\n",
    "            order = 2\n",
    "        else:\n",
    "            order = 1\n",
    "        print(\"order is\", order)\n",
    "        cwav = np.polyfit(cols[w], fitparams[w, 0], order)\n",
    "        cdwav = np.polyfit(cols[w], fitparams[w, 1], order)\n",
    "        cscale = np.polyfit(cols[w], fitparams[w, 3], order)\n",
    "        guess = (np.polyval(cwav, col), np.polyval(cdwav, col), 0.0, np.polyval(cscale, col), 0.0)\n",
    "    print(\"guess is\", guess)\n",
    "\n",
    "    w = (xs > (cols[i] - hwidths[i])) & (xs < (cols[i] + hwidths[i]))\n",
    "    output = fmin(get_sky_difference, guess, args=(xs[w] - cols[i], bgspec[w], skyref)\n",
    "                  , full_output=True, disp=False, maxiter=10000)\n",
    "    if output[4] == 0:\n",
    "        fitparams[i, :] = output[0]\n",
    "        print(output[0])\n",
    "\n",
    "        if plot:\n",
    "            model = model_sky(output[0], xs[w] - col, bgspec[w])\n",
    "            plot_sky_model(skyref, model)\n",
    "            plt.title('Fit to Section {}'.format(i))\n",
    "    else:\n",
    "        print(\"fit failed!\")"
   ]
  },
  {
   "cell_type": "markdown",
   "metadata": {},
   "source": [
    "Call the function above for sections adjacent to ones that have already been fit. Just run the cell below several times to step through different section indices. \n",
    "\n",
    "**Important: if the fit looks bad, reset the `fitparams` values for that index back to `np.nan`**"
   ]
  },
  {
   "cell_type": "code",
   "execution_count": null,
   "metadata": {},
   "outputs": [],
   "source": [
    "#ind = 11\n",
    "ind += 1\n",
    "fit_another(xs, cols, hwidths, fitparams, ind)"
   ]
  },
  {
   "cell_type": "markdown",
   "metadata": {},
   "source": [
    "Use the cell below to reset any sections with bad fits (there will probably be a few, especially near the blue end!).\n",
    "\n",
    "To add more points at the blue end, you can repeat the manual guessing process above that you initially did for one of the middle sections. The regions near the Oxygen 5577 angstrom and 6300 angstrom lines are probably easiest to fit by hand."
   ]
  },
  {
   "cell_type": "code",
   "execution_count": null,
   "metadata": {},
   "outputs": [],
   "source": [
    "#ind = 19\n",
    "print(\"deleting fit at index\", ind)\n",
    "fitparams[ind, :] = np.nan"
   ]
  },
  {
   "cell_type": "markdown",
   "metadata": {},
   "source": [
    "You can use the cells below to check for outliers, which you should remove using the cell above.\n",
    "\n",
    "If you get stuck, you can use the pre-computed `fitparams`, which is stored in the `fitparams.dat` file. Uncomment the code below to load it."
   ]
  },
  {
   "cell_type": "code",
   "execution_count": null,
   "metadata": {},
   "outputs": [],
   "source": [
    "# only if you get stuck:\n",
    "#fitparams = pickle.load(open('fitparams.dat', 'rb'))\n",
    "\n",
    "# **********************\n",
    "# save wavelength fit results\n",
    "#pickle.dump(fitparams, open('fitparams.dat', 'wb'))\n",
    "# **********************"
   ]
  },
  {
   "cell_type": "markdown",
   "metadata": {},
   "source": [
    "Fit a low-order polynomial to the fit results to get the column number to wavelength mapping. Plot the residuals from the fit to check for outliers."
   ]
  },
  {
   "cell_type": "code",
   "execution_count": null,
   "metadata": {},
   "outputs": [],
   "source": [
    "order = ????\n",
    "inds = np.arange(cols.size)\n",
    "w = np.isfinite(fitparams[:, 0])\n",
    "c = np.polyfit(cols[w], fitparams[w, 0], order)\n",
    "plt.plot(inds[w], fitparams[w, 0] - np.polyval(c, cols[w]), 'ro');\n",
    "plt.xlabel('Section Index')\n",
    "plt.ylabel('Residual')\n",
    "plt.grid();"
   ]
  },
  {
   "cell_type": "markdown",
   "metadata": {},
   "source": [
    "Plot the column number to wavelength mapping directly and with the linear fit removed to see the non-linearities in the wavelength solution."
   ]
  },
  {
   "cell_type": "code",
   "execution_count": null,
   "metadata": {},
   "outputs": [],
   "source": [
    "fig, axarr = plt.subplots(2, sharex=True)\n",
    "\n",
    "# relation between column number and wavelength\n",
    "axarr[0].plot(cols[w], fitparams[w, 0], 'ro');\n",
    "axarr[0].plot(xs, np.polyval(c, xs));\n",
    "axarr[0].axes.set_xlabel('Column Number')\n",
    "axarr[0].axes.set_ylabel('Wavelength ($\\AA$)')\n",
    "\n",
    "# plot the relation again with the linear term removed\n",
    "remove_order = 1\n",
    "axarr[1].plot(cols[w], fitparams[w, 0] - np.polyval(c[-(remove_order + 1):], cols[w]), 'ro');\n",
    "axarr[1].plot(xs, np.polyval(c, xs) - np.polyval(c[-(remove_order + 1):], xs));\n",
    "axarr[1].axes.set_xlabel('Column Number')\n",
    "axarr[1].axes.set_ylabel('$\\Delta \\lambda$');"
   ]
  },
  {
   "cell_type": "markdown",
   "metadata": {},
   "source": [
    "Now that we have a mapping from counts to wavelengths, we can apply this to the full spectrum."
   ]
  },
  {
   "cell_type": "code",
   "execution_count": null,
   "metadata": {},
   "outputs": [],
   "source": [
    "# apply the wavelength solution to the extracted spectrum\n",
    "wavs = ????\n",
    "plt.plot(wavs, spec_opt);\n",
    "plt.xlabel('Wavelength ($\\AA$)')\n",
    "plt.ylabel('Counts');"
   ]
  },
  {
   "cell_type": "markdown",
   "metadata": {},
   "source": [
    "## Determine redshift of target"
   ]
  },
  {
   "cell_type": "markdown",
   "metadata": {},
   "source": [
    "The spectrum is now extracted and wavelength calibrated, so we are finally ready to do some science!\n",
    "\n",
    "You should notice a number of strong emission lines in the spectrum. In particular, there is a very strong line around 7300 angstroms. What is a strong line that you might expect from a galaxy in the optical band? Using the observed wavelength and the known rest (laboratory) wavelength for this line you can determine the galaxy's redshift. \n",
    "\n",
    "To get a precise measurement of the line center, we need to fit a model to the data. A simple Gaussian fit should do for our purposes, so we need functions to generate the model and to evaluate how good the fit is so that we can find the best fitting parameters."
   ]
  },
  {
   "cell_type": "code",
   "execution_count": null,
   "metadata": {},
   "outputs": [],
   "source": [
    "def get_line_model(params, ys):\n",
    "    a1, cy1, sigma1 = params\n",
    "    \n",
    "    p1 = np.exp(-(ys - cy1)**2 / 2 / sigma1**2) \n",
    "    p1 /= p1.max()\n",
    "    \n",
    "    return a1 * p1 \n",
    "\n",
    "def get_line_chisq(params, ys, profile):\n",
    "    model = get_line_model(params, ys)\n",
    "    w = profile > 0\n",
    "    return np.sum( (profile[w] - model[w])**2 / np.sqrt(np.abs(profile[w])) ) / (profile[w].size - len(params))"
   ]
  },
  {
   "cell_type": "markdown",
   "metadata": {},
   "source": [
    "Limit the fit to the wavelengths dominated by the strong line and determine the central wavelength."
   ]
  },
  {
   "cell_type": "code",
   "execution_count": null,
   "metadata": {},
   "outputs": [],
   "source": [
    "minwav = ????\n",
    "maxwav = ????\n",
    "w = (wavs > minwav) & (wavs < maxwav)\n",
    "\n",
    "guess = ????\n",
    "params = fmin(get_line_chisq, guess, args=(wavs[w], spec_opt[w]), maxiter=10000)\n",
    "\n",
    "tempwav = np.linspace(minwav, maxwav, 100)\n",
    "model = get_line_model(params, tempwav)\n",
    "\n",
    "plt.plot(wavs[w], spec_opt[w], drawstyle='steps-mid', label='extracted spectrum');\n",
    "plt.plot(tempwav, model, label='model')\n",
    "plt.xlabel('Wavelength ($\\AA$)')\n",
    "plt.ylabel('Counts')\n",
    "plt.legend();"
   ]
  },
  {
   "cell_type": "markdown",
   "metadata": {},
   "source": [
    "Determine the redshift"
   ]
  },
  {
   "cell_type": "code",
   "execution_count": null,
   "metadata": {},
   "outputs": [],
   "source": [
    "z = ????\n",
    "print('redshift is z={:0.4f}'.format(z))"
   ]
  },
  {
   "cell_type": "markdown",
   "metadata": {},
   "source": [
    "There are many more lines in the spectrum; you can use these to test/refine your redshift."
   ]
  },
  {
   "cell_type": "markdown",
   "metadata": {},
   "source": [
    "## Flat field data (Optional) "
   ]
  },
  {
   "cell_type": "markdown",
   "metadata": {},
   "source": [
    "To this point we have not corrected the data for pixel-to-pixel efficiencies (in other words, we have not flat-fielded the data). For many tasks this is actually not required, but if you have *good* flat field exposures available, flat fielding can improve the output data quality.\n",
    "\n",
    "The key for spectroscopy is to note that the CCD response is wavelength dependent (you wouldn't use a U-band flat to process an I-band image, right?), and with spectra there are many wavelength bins to account for. Just as with flats for photometry, we do not care so much how many counts we get in a given wavelength bin, we can just determine the average number in each wavelength bin and then divide by this average to get numbers close to 1."
   ]
  },
  {
   "cell_type": "code",
   "execution_count": null,
   "metadata": {},
   "outputs": [],
   "source": [
    "# load in the flat\n",
    "flat = fits.getdata('spec_flat.fits')\n",
    "\n",
    "# display\n",
    "ds9.set('frame 2')\n",
    "ds9.set_np2arr(flat)\n",
    "\n",
    "plt.plot(np.median(flat, axis=0));\n",
    "plt.xlabel('Column Number')\n",
    "plt.ylabel('Counts');"
   ]
  },
  {
   "cell_type": "markdown",
   "metadata": {},
   "source": [
    "Notice that the average counts vary considerably with wavelength and there are even a few line features present in the data (there is air between the light source and the camera, and air can emit and absorb light!\n",
    "\n",
    "Since we already know the relative wavelengths for each pixel, this is no problem. We can fit a spline to this profile (which is marginalized over slit position) to determine the typical number of counts in each wavelength bin and then divide each pixel by the appropriate value from the spline fit to normalize the counts."
   ]
  },
  {
   "cell_type": "markdown",
   "metadata": {},
   "source": [
    "#### Note: the cell below calls the LSQUnivariateSpline. If you are using the (VERY slow) hacked version, this may take some time! You can simply load the provided `flat_spl.dat` data file instead."
   ]
  },
  {
   "cell_type": "code",
   "execution_count": null,
   "metadata": {},
   "outputs": [],
   "source": [
    "# fit a spline\n",
    "x = lambdafit.ravel()\n",
    "y = flat.ravel()\n",
    "weights = np.sqrt(np.abs(y)) \n",
    "wsort = x.argsort()\n",
    "x, y, weights = x[wsort], y[wsort], weights[wsort]\n",
    "t = np.linspace(x.min() + 1, x.max() - 1, nx)\n",
    "if SPLINE_WORKS is False:\n",
    "    spl = pickle.load(open('flat_spl.dat', 'rb'))\n",
    "else:\n",
    "    spl = LSQUnivariateSpline(x, y, t, weights)"
   ]
  },
  {
   "cell_type": "code",
   "execution_count": null,
   "metadata": {},
   "outputs": [],
   "source": [
    "# **********************\n",
    "# save the flat spline\n",
    "#pickle.dump(spl, open('flat_spl.dat', 'wb'))\n",
    "# **********************"
   ]
  },
  {
   "cell_type": "code",
   "execution_count": null,
   "metadata": {},
   "outputs": [],
   "source": [
    "# plot the spline\n",
    "#plt.plot(x, y, 'ro');\n",
    "plt.plot(x, spl(x))\n",
    "plt.xlabel('Wavelength ($\\AA$)')\n",
    "plt.ylabel('Counts');"
   ]
  },
  {
   "cell_type": "code",
   "execution_count": null,
   "metadata": {},
   "outputs": [],
   "source": [
    "# normalize the flat field \n",
    "normflat = ????"
   ]
  },
  {
   "cell_type": "code",
   "execution_count": null,
   "metadata": {},
   "outputs": [],
   "source": [
    "ds9.set('frame 1')\n",
    "ds9.set_np2arr(flat)\n",
    "ds9.set('frame 2')\n",
    "ds9.set_np2arr(normflat);"
   ]
  },
  {
   "cell_type": "markdown",
   "metadata": {},
   "source": [
    "You can now divide the science images by this normalized flat to correct for pixel-to-pixel differences."
   ]
  },
  {
   "cell_type": "markdown",
   "metadata": {},
   "source": [
    "## Flux Calibration (Optional) "
   ]
  },
  {
   "cell_type": "markdown",
   "metadata": {},
   "source": [
    "Sometimes you may also want to scale the counts (by a wavelength dependent function) to determine the flux densities in each wavelength bin. To do this, you need to observe a target with a known flux density spectrum. A number of such calibrated standard stars are available and should be observed. Typically you cannot observe your target and a standard star simultaneously, so you need a photometric night in order to get the absolute scaling right. However, even with clouds you can often get the *relative* flux densities of your target."
   ]
  },
  {
   "cell_type": "code",
   "execution_count": null,
   "metadata": {},
   "outputs": [],
   "source": [
    "# extract standard star spectrum as above\n",
    "stdimage = fits.getdata('spec_std.fits')"
   ]
  },
  {
   "cell_type": "code",
   "execution_count": null,
   "metadata": {},
   "outputs": [],
   "source": [
    "# mask to mark sky rows\n",
    "stdskymask = np.ones(stdimage.shape, dtype=bool)\n",
    "stdskymask[objrows, :] = False\n",
    "\n",
    "# also exclude bad rows\n",
    "stdskymask[badrows, :] = False\n",
    "\n",
    "# median (unmasked) sky spectrum and standard deviation\n",
    "medspec = np.median(stdimage[skyrows, :], axis=0)\n",
    "stdspec = np.std(stdimage[skyrows, :], axis=0, ddof=1)\n",
    "\n",
    "# exclude deviant pixels from the skymask\n",
    "pull = (stdimage - medspec) / stdspec\n",
    "w = pull > 3\n",
    "stdskymask[w] = False"
   ]
  },
  {
   "cell_type": "code",
   "execution_count": null,
   "metadata": {},
   "outputs": [],
   "source": [
    "stdskyfit = fit_sky(lambdafit[stdskymask], yvals[stdskymask], stdimage[stdskymask])\n",
    "stdsky = stdskyfit.ev(lambdafit, yvals)"
   ]
  },
  {
   "cell_type": "code",
   "execution_count": null,
   "metadata": {},
   "outputs": [],
   "source": [
    "ds9.set('frame 1')\n",
    "ds9.set_np2arr(stdimage)\n",
    "ds9.set('frame 2')\n",
    "ds9.set_np2arr(stdsky)\n",
    "ds9.set('frame 3')\n",
    "ds9.set_np2arr(stdimage - stdsky)"
   ]
  },
  {
   "cell_type": "code",
   "execution_count": null,
   "metadata": {},
   "outputs": [],
   "source": [
    "# select which rows to sum\n",
    "w = (slitpos > ????) & (slitpos < ????)\n",
    "ymin, ymax = yvals[w].min(), yvals[w].max()\n",
    "\n",
    "# calculate the sum\n",
    "std_spec = ????\n",
    "\n",
    "# plot the extracted spectrum\n",
    "plt.plot(wavs, std_spec)\n",
    "plt.xlabel('Wavelength ($\\AA$)')\n",
    "plt.ylabel('Counts');"
   ]
  },
  {
   "cell_type": "markdown",
   "metadata": {},
   "source": [
    "The supplied standard star is called Feige 67. You can get a table of its flux densities from ESO (and other sources)."
   ]
  },
  {
   "cell_type": "code",
   "execution_count": null,
   "metadata": {},
   "outputs": [],
   "source": [
    "# Download the data from ESO\n",
    "dtype = []\n",
    "dtype.append( ('wav', float) )\n",
    "dtype.append( ('flux', float) ) # units are ergs/cm/cm/s/A * 10**16\n",
    "dtype.append( ('eflux', float) )\n",
    "dtype.append( ('dlam', float) )\n",
    "calspec = np.genfromtxt('ftp://ftp.eso.org/pub/stecf/standards/okestan/ffeige67.dat', dtype=dtype)"
   ]
  },
  {
   "cell_type": "code",
   "execution_count": null,
   "metadata": {},
   "outputs": [],
   "source": [
    "plt.plot(calspec['wav'], calspec['flux']);\n",
    "plt.xlabel('Wavelength ($\\AA$)')\n",
    "plt.ylabel('$10^{16} * F_{\\lambda}$');\n",
    "plt.yscale('log');"
   ]
  },
  {
   "cell_type": "code",
   "execution_count": null,
   "metadata": {},
   "outputs": [],
   "source": [
    "# fit a spline to the tabulated spectrum\n",
    "t = np.arange(calspec['wav'][1], calspec['wav'][-2], np.int(np.median(calspec['dlam'])))\n",
    "stdflux = LSQUnivariateSpline(calspec['wav'], calspec['flux'], t, calspec['eflux'])"
   ]
  },
  {
   "cell_type": "code",
   "execution_count": null,
   "metadata": {},
   "outputs": [],
   "source": [
    "# get the counts to flux density ratios in each wavelength bin\n",
    "# exclude significant line features (fluxes near these depend on spectral resolution)\n",
    "ratios = std_spec / stdflux(wavs)\n",
    "w = (wavs > calspec['wav'].min()) \\\n",
    "    & (wavs < calspec['wav'].max()) \\\n",
    "    & (np.abs(wavs - 7650) > 70) \\\n",
    "    & (np.abs(wavs - ????) > ??) \\\n",
    "    & (np.abs(wavs - ????) > ??) \\\n",
    "\n",
    "# fit a spline to the ratios to determine the response function\n",
    "t = wavs[w][1:-2:????]\n",
    "respfn = LSQUnivariateSpline(wavs[w], ratios[w], t)\n",
    "\n",
    "plt.plot(wavs[w], ratios[w], 'ro')\n",
    "xwav = np.linspace(wavs[w][1], wavs[w][-1], 1000)\n",
    "plt.plot(xwav, respfn(xwav));\n",
    "plt.xlabel('Wavelength ($\\AA$)')\n",
    "plt.ylabel('Response Function (counts/$F_{\\lambda}$)');"
   ]
  },
  {
   "cell_type": "code",
   "execution_count": null,
   "metadata": {},
   "outputs": [],
   "source": [
    "# compare the tabulated and extracted flux densities (applying the response function)\n",
    "plt.plot(calspec['wav'], calspec['flux'], label='Tabulated (published) Spectrum');\n",
    "plt.plot(wavs, std_spec / respfn(wavs), label='Extracted Spectrum')\n",
    "plt.xlim(5300, 9200) # standard star values are only tabulated out to ~9200 A\n",
    "plt.ylim(0, 1000)\n",
    "\n",
    "plt.xlabel('Wavelength ($\\AA$)')\n",
    "plt.ylabel('$F_{\\lambda}$')\n",
    "plt.ylim(50, 1000)\n",
    "plt.yscale('log')\n",
    "plt.legend();"
   ]
  },
  {
   "cell_type": "markdown",
   "metadata": {
    "collapsed": true
   },
   "source": [
    "Now apply the response function to the target spectrum to get the flux calibrated spectrum."
   ]
  },
  {
   "cell_type": "code",
   "execution_count": null,
   "metadata": {},
   "outputs": [],
   "source": [
    "plt.plot(wavs, spec_opt / respfn(wavs))\n",
    "plt.xlim(5300, 9200)\n",
    "plt.xlabel('Wavelength ($\\AA$)')\n",
    "plt.ylabel('$F_{\\lambda}$');"
   ]
  },
  {
   "cell_type": "markdown",
   "metadata": {},
   "source": [
    "## Removal of telluric features (Optional) "
   ]
  },
  {
   "cell_type": "markdown",
   "metadata": {},
   "source": [
    "The Earth's atmosphere strongly absorbs light in bands near 7600 angstroms (A-band) and 6900 angstroms (B-band), and also in a number of other bands particularly in the near-IR. These bands can be seen in the spectra of our standard star. The target spectrum is also absorbed in these bands. We can correct for this by measuring the fraction of the standard star's light absorbed as a function of wavelength compared to an extrapolation of the standard star's continuum across these bands. We can then scale this absorption strength to match the fractional absorption in the target spectrum and thus divide out the telluric absorption. This works well as long as the atmospheric conditions remain similar."
   ]
  },
  {
   "cell_type": "code",
   "execution_count": null,
   "metadata": {},
   "outputs": [],
   "source": [
    "tell_spec = (std_spec / respfn(wavs)) / stdflux(wavs)\n",
    "w = (np.abs(wavs - 7650) < 70) | (np.abs(wavs - 6900) < 40)\n",
    "tell_spec[~w] = 1\n",
    "\n",
    "plt.plot(wavs, tell_spec)\n",
    "plt.xlim(5300, 9200)\n",
    "plt.ylim(0, 1.1)\n",
    "plt.xlabel('Wavelength ($\\AA$)')\n",
    "plt.ylabel('$F_{\\lambda}$');"
   ]
  },
  {
   "cell_type": "code",
   "execution_count": null,
   "metadata": {},
   "outputs": [],
   "source": [
    "# correct the target spectrum for telluric absorption\n",
    "plt.plot(wavs, spec_opt / respfn(wavs), label='uncorrected')\n",
    "plt.plot(wavs, spec_opt / respfn(wavs) / tell_spec, label='corrected')\n",
    "plt.xlim(5300, 9200)\n",
    "plt.xlabel('Wavelength ($\\AA$)')\n",
    "plt.ylabel('$F_{\\lambda}$')\n",
    "plt.yscale('log')\n",
    "plt.ylim(1, 2000)\n",
    "plt.legend();"
   ]
  },
  {
   "cell_type": "markdown",
   "metadata": {},
   "source": [
    "Finally, you can compare your extraction to the [published](https://ui.adsabs.harvard.edu/#abs/2016ApJ...830...13P/abstract) extraction of these same data. The published spectra are posted to the [Weizmann Interactive Supernova Data Repository (WISeREP)](https://wiserep.weizmann.ac.il)."
   ]
  },
  {
   "cell_type": "code",
   "execution_count": null,
   "metadata": {},
   "outputs": [],
   "source": [
    "# download the published spectrum\n",
    "dtype = []\n",
    "dtype.append( ('wav', float) )\n",
    "dtype.append( ('flux', float) )\n",
    "dtype.append( ('sky', float) )\n",
    "dtype.append( ('eflux', float) )\n",
    "dtype.append( ('xpix', float) )\n",
    "dtype.append( ('ypix', float) )\n",
    "dtype.append( ('resp', float) )\n",
    "url = 'https://wiserep.weizmann.ac.il/system/files/uploaded/general/PTF12dam_2014-04-30_10-33-34_Keck1_LRIS_None.spec'\n",
    "pub = np.genfromtxt(url, dtype=dtype)\n",
    "\n",
    "plt.plot(wavs, spec_opt / respfn(wavs) / tell_spec, label='my extraction')\n",
    "plt.plot(pub['wav'], pub['flux'] * 1e16, label='published')\n",
    "plt.xlim(5300, 9200)\n",
    "plt.xlabel('Wavelength ($\\AA$)')\n",
    "plt.ylabel('$F_{\\lambda}$')\n",
    "plt.yscale('log')\n",
    "plt.ylim(0.01, 2000)\n",
    "plt.legend();"
   ]
  }
 ],
 "metadata": {
  "kernelspec": {
   "display_name": "Python 3",
   "language": "python",
   "name": "python3"
  },
  "language_info": {
   "codemirror_mode": {
    "name": "ipython",
    "version": 3
   },
   "file_extension": ".py",
   "mimetype": "text/x-python",
   "name": "python",
   "nbconvert_exporter": "python",
   "pygments_lexer": "ipython3",
   "version": "3.5.6"
  }
 },
 "nbformat": 4,
 "nbformat_minor": 2
}
